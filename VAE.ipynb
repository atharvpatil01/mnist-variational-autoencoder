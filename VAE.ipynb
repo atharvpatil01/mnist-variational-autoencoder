{
 "cells": [
  {
   "cell_type": "code",
   "execution_count": 4,
   "id": "7a296a2a",
   "metadata": {},
   "outputs": [],
   "source": [
    "import torch\n",
    "import torch.nn as nn\n",
    "import torch.nn.functional as F\n",
    "import torch.optim as optim\n",
    "from torch.utils.data import DataLoader, Dataset"
   ]
  },
  {
   "cell_type": "code",
   "execution_count": 6,
   "id": "8ec9d2db",
   "metadata": {},
   "outputs": [],
   "source": [
    "import torch.nn as nn\n",
    "import torch.nn.functional as F\n",
    "import torch\n",
    "\n",
    "class VAE(nn.Module):\n",
    "    def __init__(self, input_dim, hidden_dim, latent_dim):\n",
    "        super(VAE, self).__init__()\n",
    "        # Encoder\n",
    "        self.fc1 = nn.Linear(input_dim, hidden_dim)\n",
    "        self.fc21 = nn.Linear(hidden_dim, latent_dim)  # Mean\n",
    "        self.fc22 = nn.Linear(hidden_dim, latent_dim)  # Log variance\n",
    "\n",
    "        # Decoder\n",
    "        self.fc3 = nn.Linear(latent_dim, hidden_dim)\n",
    "        self.fc4 = nn.Linear(hidden_dim, input_dim)\n",
    "\n",
    "    def encode(self, x):\n",
    "        h1 = F.relu(self.fc1(x))\n",
    "        return self.fc21(h1), self.fc22(h1)\n",
    "\n",
    "    def reparameterize(self, mu, logvar):\n",
    "        std = torch.exp(0.5 * logvar)\n",
    "        eps = torch.randn_like(std)\n",
    "        return mu + eps * std\n",
    "\n",
    "    def decode(self, z):\n",
    "        h3 = F.relu(self.fc3(z))\n",
    "        return torch.sigmoid(self.fc4(h3))\n",
    "\n",
    "    def forward(self, x):\n",
    "        mu, logvar = self.encode(x)\n",
    "        z = self.reparameterize(mu, logvar)\n",
    "        return self.decode(z), mu, logvar"
   ]
  },
  {
   "cell_type": "code",
   "execution_count": 7,
   "id": "a3ef5d33",
   "metadata": {},
   "outputs": [
    {
     "name": "stdout",
     "output_type": "stream",
     "text": [
      "Requirement already satisfied: torchvision in c:\\users\\legion\\appdata\\local\\programs\\python\\python313\\lib\\site-packages (0.22.0)\n",
      "Requirement already satisfied: numpy in c:\\users\\legion\\appdata\\local\\programs\\python\\python313\\lib\\site-packages (from torchvision) (2.2.6)\n",
      "Requirement already satisfied: torch==2.7.0 in c:\\users\\legion\\appdata\\local\\programs\\python\\python313\\lib\\site-packages (from torchvision) (2.7.0)\n",
      "Requirement already satisfied: pillow!=8.3.*,>=5.3.0 in c:\\users\\legion\\appdata\\local\\programs\\python\\python313\\lib\\site-packages (from torchvision) (11.2.1)\n",
      "Requirement already satisfied: filelock in c:\\users\\legion\\appdata\\local\\programs\\python\\python313\\lib\\site-packages (from torch==2.7.0->torchvision) (3.18.0)\n",
      "Requirement already satisfied: typing-extensions>=4.10.0 in c:\\users\\legion\\appdata\\local\\programs\\python\\python313\\lib\\site-packages (from torch==2.7.0->torchvision) (4.13.2)\n",
      "Requirement already satisfied: sympy>=1.13.3 in c:\\users\\legion\\appdata\\local\\programs\\python\\python313\\lib\\site-packages (from torch==2.7.0->torchvision) (1.14.0)\n",
      "Requirement already satisfied: networkx in c:\\users\\legion\\appdata\\local\\programs\\python\\python313\\lib\\site-packages (from torch==2.7.0->torchvision) (3.4.2)\n",
      "Requirement already satisfied: jinja2 in c:\\users\\legion\\appdata\\local\\programs\\python\\python313\\lib\\site-packages (from torch==2.7.0->torchvision) (3.1.6)\n",
      "Requirement already satisfied: fsspec in c:\\users\\legion\\appdata\\local\\programs\\python\\python313\\lib\\site-packages (from torch==2.7.0->torchvision) (2025.5.0)\n",
      "Requirement already satisfied: setuptools in c:\\users\\legion\\appdata\\local\\programs\\python\\python313\\lib\\site-packages (from torch==2.7.0->torchvision) (80.8.0)\n",
      "Requirement already satisfied: mpmath<1.4,>=1.1.0 in c:\\users\\legion\\appdata\\local\\programs\\python\\python313\\lib\\site-packages (from sympy>=1.13.3->torch==2.7.0->torchvision) (1.3.0)\n",
      "Requirement already satisfied: MarkupSafe>=2.0 in c:\\users\\legion\\appdata\\local\\programs\\python\\python313\\lib\\site-packages (from jinja2->torch==2.7.0->torchvision) (3.0.2)\n",
      "Note: you may need to restart the kernel to use updated packages.\n"
     ]
    },
    {
     "name": "stderr",
     "output_type": "stream",
     "text": [
      "\n",
      "[notice] A new release of pip is available: 25.0.1 -> 25.1.1\n",
      "[notice] To update, run: python.exe -m pip install --upgrade pip\n"
     ]
    }
   ],
   "source": [
    "%pip install torchvision\n",
    "\n",
    "from torchvision import datasets, transforms\n",
    "\n",
    "transform = transforms.Compose([\n",
    "    transforms.ToTensor(),\n",
    "    transforms.Lambda(lambda x: x.view(-1))  # flatten the image\n",
    "])\n",
    "\n",
    "mnist_train = datasets.MNIST(root='./data', train=True, download=True, transform=transform)\n",
    "mnist_test = datasets.MNIST(root='./data', train=False, download=True, transform=transform)"
   ]
  },
  {
   "cell_type": "code",
   "execution_count": 8,
   "id": "0b3a04e5",
   "metadata": {},
   "outputs": [
    {
     "name": "stdout",
     "output_type": "stream",
     "text": [
      "Epoch 0 [0/60000] Loss: 548.7267\n",
      "Epoch 0 [6400/60000] Loss: 181.6526\n",
      "Epoch 0 [12800/60000] Loss: 147.8432\n",
      "Epoch 0 [19200/60000] Loss: 148.4605\n",
      "Epoch 0 [25600/60000] Loss: 143.3767\n",
      "Epoch 0 [32000/60000] Loss: 127.2662\n",
      "Epoch 0 [38400/60000] Loss: 126.6015\n",
      "Epoch 0 [44800/60000] Loss: 128.4233\n",
      "Epoch 0 [51200/60000] Loss: 126.3136\n",
      "Epoch 0 [57600/60000] Loss: 117.5107\n",
      "====> Epoch: 0 Average loss: 145.6658\n",
      "Epoch 1 [0/60000] Loss: 114.8242\n",
      "Epoch 1 [6400/60000] Loss: 119.8934\n",
      "Epoch 1 [12800/60000] Loss: 120.8386\n",
      "Epoch 1 [19200/60000] Loss: 120.4554\n",
      "Epoch 1 [25600/60000] Loss: 114.8252\n",
      "Epoch 1 [32000/60000] Loss: 116.3516\n",
      "Epoch 1 [38400/60000] Loss: 111.5910\n",
      "Epoch 1 [44800/60000] Loss: 105.0360\n",
      "Epoch 1 [51200/60000] Loss: 112.4807\n",
      "Epoch 1 [57600/60000] Loss: 113.8805\n",
      "====> Epoch: 1 Average loss: 115.4825\n",
      "Epoch 2 [0/60000] Loss: 114.1552\n",
      "Epoch 2 [6400/60000] Loss: 109.8080\n",
      "Epoch 2 [12800/60000] Loss: 110.2687\n",
      "Epoch 2 [19200/60000] Loss: 105.3879\n",
      "Epoch 2 [25600/60000] Loss: 122.7199\n",
      "Epoch 2 [32000/60000] Loss: 115.4480\n",
      "Epoch 2 [38400/60000] Loss: 106.6608\n",
      "Epoch 2 [44800/60000] Loss: 109.7699\n",
      "Epoch 2 [51200/60000] Loss: 108.2809\n",
      "Epoch 2 [57600/60000] Loss: 110.1525\n",
      "====> Epoch: 2 Average loss: 111.4141\n"
     ]
    }
   ],
   "source": [
    "import torch\n",
    "\n",
    "# Hyperparameters\n",
    "input_dim = 28 * 28\n",
    "hidden_dim = 400\n",
    "latent_dim = 20\n",
    "batch_size = 64\n",
    "epochs = 3  # You can increase for better results\n",
    "\n",
    "# DataLoader\n",
    "train_loader = DataLoader(mnist_train, batch_size=batch_size, shuffle=True)\n",
    "\n",
    "# Model and optimizer\n",
    "vae = VAE(input_dim, hidden_dim, latent_dim)\n",
    "optimizer = optim.Adam(vae.parameters(), lr=1e-3)\n",
    "\n",
    "# Loss function\n",
    "def loss_function(recon_x, x, mu, logvar):\n",
    "    BCE = F.binary_cross_entropy(recon_x, x, reduction='sum')\n",
    "    KLD = -0.5 * torch.sum(1 + logvar - mu.pow(2) - logvar.exp())\n",
    "    return BCE + KLD\n",
    "\n",
    "# Training loop\n",
    "vae.train()\n",
    "for epoch in range(epochs):\n",
    "    train_loss = 0\n",
    "    for batch_idx, (data, _) in enumerate(train_loader):\n",
    "        optimizer.zero_grad()\n",
    "        recon_batch, mu, logvar = vae(data)\n",
    "        loss = loss_function(recon_batch, data, mu, logvar)\n",
    "        loss.backward()\n",
    "        train_loss += loss.item()\n",
    "        optimizer.step()\n",
    "        if batch_idx % 100 == 0:\n",
    "            print(f'Epoch {epoch} [{batch_idx * len(data)}/{len(train_loader.dataset)}] Loss: {loss.item() / len(data):.4f}')\n",
    "    print(f'====> Epoch: {epoch} Average loss: {train_loss / len(train_loader.dataset):.4f}')"
   ]
  },
  {
   "cell_type": "code",
   "execution_count": 9,
   "id": "0a1efd57",
   "metadata": {},
   "outputs": [
    {
     "name": "stderr",
     "output_type": "stream",
     "text": [
      "\n",
      "[notice] A new release of pip is available: 25.0.1 -> 25.1.1\n",
      "[notice] To update, run: python.exe -m pip install --upgrade pip\n"
     ]
    },
    {
     "name": "stdout",
     "output_type": "stream",
     "text": [
      "Requirement already satisfied: matplotlib in c:\\users\\legion\\appdata\\local\\programs\\python\\python313\\lib\\site-packages (3.10.3)\n",
      "Requirement already satisfied: contourpy>=1.0.1 in c:\\users\\legion\\appdata\\local\\programs\\python\\python313\\lib\\site-packages (from matplotlib) (1.3.2)\n",
      "Requirement already satisfied: cycler>=0.10 in c:\\users\\legion\\appdata\\local\\programs\\python\\python313\\lib\\site-packages (from matplotlib) (0.12.1)\n",
      "Requirement already satisfied: fonttools>=4.22.0 in c:\\users\\legion\\appdata\\local\\programs\\python\\python313\\lib\\site-packages (from matplotlib) (4.58.0)\n",
      "Requirement already satisfied: kiwisolver>=1.3.1 in c:\\users\\legion\\appdata\\local\\programs\\python\\python313\\lib\\site-packages (from matplotlib) (1.4.8)\n",
      "Requirement already satisfied: numpy>=1.23 in c:\\users\\legion\\appdata\\local\\programs\\python\\python313\\lib\\site-packages (from matplotlib) (2.2.6)\n",
      "Requirement already satisfied: packaging>=20.0 in c:\\users\\legion\\appdata\\roaming\\python\\python313\\site-packages (from matplotlib) (25.0)\n",
      "Requirement already satisfied: pillow>=8 in c:\\users\\legion\\appdata\\local\\programs\\python\\python313\\lib\\site-packages (from matplotlib) (11.2.1)\n",
      "Requirement already satisfied: pyparsing>=2.3.1 in c:\\users\\legion\\appdata\\local\\programs\\python\\python313\\lib\\site-packages (from matplotlib) (3.2.3)\n",
      "Requirement already satisfied: python-dateutil>=2.7 in c:\\users\\legion\\appdata\\roaming\\python\\python313\\site-packages (from matplotlib) (2.9.0.post0)\n",
      "Requirement already satisfied: six>=1.5 in c:\\users\\legion\\appdata\\roaming\\python\\python313\\site-packages (from python-dateutil>=2.7->matplotlib) (1.17.0)\n",
      "Note: you may need to restart the kernel to use updated packages.\n"
     ]
    },
    {
     "data": {
      "image/png": "[encoded data removed]",
      "text/plain": [
       "<Figure size 1500x400 with 16 Axes>"
      ]
     },
     "metadata": {},
     "output_type": "display_data"
    }
   ],
   "source": [
    "%pip install matplotlib\n",
    "import matplotlib.pyplot as plt\n",
    "\n",
    "vae.eval()  # Set model to evaluation mode\n",
    "\n",
    "# Get a batch of test images\n",
    "test_loader = DataLoader(mnist_test, batch_size=8, shuffle=True)\n",
    "test_images, _ = next(iter(test_loader))\n",
    "\n",
    "# Reconstruct images\n",
    "with torch.no_grad():\n",
    "    recon_images, _, _ = vae(test_images)\n",
    "\n",
    "# Plot original and reconstructed images\n",
    "fig, axes = plt.subplots(2, 8, figsize=(15, 4))\n",
    "for i in range(8):\n",
    "    axes[0, i].imshow(test_images[i].view(28, 28).cpu(), cmap='gray')\n",
    "    axes[0, i].axis('off')\n",
    "    axes[1, i].imshow(recon_images[i].view(28, 28).cpu(), cmap='gray')\n",
    "    axes[1, i].axis('off')\n",
    "axes[0, 0].set_ylabel('Original')\n",
    "axes[1, 0].set_ylabel('Reconstructed')\n",
    "plt.show()"
   ]
  },
  {
   "cell_type": "code",
   "execution_count": 10,
   "id": "5aa81941",
   "metadata": {},
   "outputs": [
    {
     "data": {
      "image/png": "[encoded data removed]",
      "text/plain": [
       "<Figure size 1500x200 with 8 Axes>"
      ]
     },
     "metadata": {},
     "output_type": "display_data"
    }
   ],
   "source": [
    "with torch.no_grad():\n",
    "    z = torch.randn(8, latent_dim)  # 8 random latent vectors\n",
    "    generated = vae.decode(z)\n",
    "\n",
    "fig, axes = plt.subplots(1, 8, figsize=(15, 2))\n",
    "for i in range(8):\n",
    "    axes[i].imshow(generated[i].view(28, 28).cpu(), cmap='gray')\n",
    "    axes[i].axis('off')\n",
    "plt.suptitle('Generated Samples')\n",
    "plt.show()"
   ]
  },
  {
   "cell_type": "code",
   "execution_count": 11,
   "id": "a3a1a2c1",
   "metadata": {
    "vscode": {
     "languageId": "markdown"
    }
   },
   "outputs": [],
   "source": [
    "# Suggestions to increase privacy for non-open-source data:\n",
    "# 1. Apply differential privacy techniques during training (e.g., DP-SGD).\n",
    "# 2. Limit access to raw data and use secure data storage.\n",
    "# 3. Anonymize or obfuscate sensitive features before training.\n",
    "# 4. Use federated learning to keep data on-device.\n",
    "# 5. Regularly audit and monitor data access and usage.\n",
    "# 6. Remove or mask any personally identifiable information (PII) if present.\n",
    "# 7. Encrypt data at rest and in transit."
   ]
  },
  {
   "cell_type": "code",
   "execution_count": 12,
   "id": "c5caf804",
   "metadata": {
    "vscode": {
     "languageId": "markdown"
    }
   },
   "outputs": [
    {
     "name": "stdout",
     "output_type": "stream",
     "text": [
      "Requirement already satisfied: gradio in c:\\users\\legion\\appdata\\local\\programs\\python\\python313\\lib\\site-packages (5.31.0)\n",
      "Requirement already satisfied: aiofiles<25.0,>=22.0 in c:\\users\\legion\\appdata\\local\\programs\\python\\python313\\lib\\site-packages (from gradio) (24.1.0)\n",
      "Requirement already satisfied: anyio<5.0,>=3.0 in c:\\users\\legion\\appdata\\local\\programs\\python\\python313\\lib\\site-packages (from gradio) (4.9.0)\n",
      "Requirement already satisfied: audioop-lts<1.0 in c:\\users\\legion\\appdata\\local\\programs\\python\\python313\\lib\\site-packages (from gradio) (0.2.1)\n",
      "Requirement already satisfied: fastapi<1.0,>=0.115.2 in c:\\users\\legion\\appdata\\local\\programs\\python\\python313\\lib\\site-packages (from gradio) (0.115.12)\n",
      "Requirement already satisfied: ffmpy in c:\\users\\legion\\appdata\\local\\programs\\python\\python313\\lib\\site-packages (from gradio) (0.5.0)\n",
      "Requirement already satisfied: gradio-client==1.10.1 in c:\\users\\legion\\appdata\\local\\programs\\python\\python313\\lib\\site-packages (from gradio) (1.10.1)\n",
      "Requirement already satisfied: groovy~=0.1 in c:\\users\\legion\\appdata\\local\\programs\\python\\python313\\lib\\site-packages (from gradio) (0.1.2)\n",
      "Requirement already satisfied: httpx>=0.24.1 in c:\\users\\legion\\appdata\\local\\programs\\python\\python313\\lib\\site-packages (from gradio) (0.28.1)\n",
      "Requirement already satisfied: huggingface-hub>=0.28.1 in c:\\users\\legion\\appdata\\local\\programs\\python\\python313\\lib\\site-packages (from gradio) (0.32.0)\n",
      "Requirement already satisfied: jinja2<4.0 in c:\\users\\legion\\appdata\\local\\programs\\python\\python313\\lib\\site-packages (from gradio) (3.1.6)\n",
      "Requirement already satisfied: markupsafe<4.0,>=2.0 in c:\\users\\legion\\appdata\\local\\programs\\python\\python313\\lib\\site-packages (from gradio) (3.0.2)\n",
      "Requirement already satisfied: numpy<3.0,>=1.0 in c:\\users\\legion\\appdata\\local\\programs\\python\\python313\\lib\\site-packages (from gradio) (2.2.6)\n",
      "Requirement already satisfied: orjson~=3.0 in c:\\users\\legion\\appdata\\local\\programs\\python\\python313\\lib\\site-packages (from gradio) (3.10.18)\n",
      "Requirement already satisfied: packaging in c:\\users\\legion\\appdata\\roaming\\python\\python313\\site-packages (from gradio) (25.0)\n",
      "Requirement already satisfied: pandas<3.0,>=1.0 in c:\\users\\legion\\appdata\\local\\programs\\python\\python313\\lib\\site-packages (from gradio) (2.2.3)\n",
      "Requirement already satisfied: pillow<12.0,>=8.0 in c:\\users\\legion\\appdata\\local\\programs\\python\\python313\\lib\\site-packages (from gradio) (11.2.1)\n",
      "Requirement already satisfied: pydantic<2.12,>=2.0 in c:\\users\\legion\\appdata\\local\\programs\\python\\python313\\lib\\site-packages (from gradio) (2.11.5)\n",
      "Requirement already satisfied: pydub in c:\\users\\legion\\appdata\\local\\programs\\python\\python313\\lib\\site-packages (from gradio) (0.25.1)\n",
      "Requirement already satisfied: python-multipart>=0.0.18 in c:\\users\\legion\\appdata\\local\\programs\\python\\python313\\lib\\site-packages (from gradio) (0.0.20)\n",
      "Requirement already satisfied: pyyaml<7.0,>=5.0 in c:\\users\\legion\\appdata\\local\\programs\\python\\python313\\lib\\site-packages (from gradio) (6.0.2)\n",
      "Requirement already satisfied: ruff>=0.9.3 in c:\\users\\legion\\appdata\\local\\programs\\python\\python313\\lib\\site-packages (from gradio) (0.11.11)\n",
      "Requirement already satisfied: safehttpx<0.2.0,>=0.1.6 in c:\\users\\legion\\appdata\\local\\programs\\python\\python313\\lib\\site-packages (from gradio) (0.1.6)\n",
      "Requirement already satisfied: semantic-version~=2.0 in c:\\users\\legion\\appdata\\local\\programs\\python\\python313\\lib\\site-packages (from gradio) (2.10.0)\n",
      "Requirement already satisfied: starlette<1.0,>=0.40.0 in c:\\users\\legion\\appdata\\local\\programs\\python\\python313\\lib\\site-packages (from gradio) (0.46.2)\n",
      "Requirement already satisfied: tomlkit<0.14.0,>=0.12.0 in c:\\users\\legion\\appdata\\local\\programs\\python\\python313\\lib\\site-packages (from gradio) (0.13.2)\n",
      "Requirement already satisfied: typer<1.0,>=0.12 in c:\\users\\legion\\appdata\\local\\programs\\python\\python313\\lib\\site-packages (from gradio) (0.15.4)\n",
      "Requirement already satisfied: typing-extensions~=4.0 in c:\\users\\legion\\appdata\\local\\programs\\python\\python313\\lib\\site-packages (from gradio) (4.13.2)\n",
      "Requirement already satisfied: uvicorn>=0.14.0 in c:\\users\\legion\\appdata\\local\\programs\\python\\python313\\lib\\site-packages (from gradio) (0.34.2)\n",
      "Requirement already satisfied: fsspec in c:\\users\\legion\\appdata\\local\\programs\\python\\python313\\lib\\site-packages (from gradio-client==1.10.1->gradio) (2025.5.0)\n",
      "Requirement already satisfied: websockets<16.0,>=10.0 in c:\\users\\legion\\appdata\\local\\programs\\python\\python313\\lib\\site-packages (from gradio-client==1.10.1->gradio) (15.0.1)\n",
      "Requirement already satisfied: idna>=2.8 in c:\\users\\legion\\appdata\\local\\programs\\python\\python313\\lib\\site-packages (from anyio<5.0,>=3.0->gradio) (3.10)\n",
      "Requirement already satisfied: sniffio>=1.1 in c:\\users\\legion\\appdata\\local\\programs\\python\\python313\\lib\\site-packages (from anyio<5.0,>=3.0->gradio) (1.3.1)\n",
      "Requirement already satisfied: certifi in c:\\users\\legion\\appdata\\local\\programs\\python\\python313\\lib\\site-packages (from httpx>=0.24.1->gradio) (2025.4.26)\n",
      "Requirement already satisfied: httpcore==1.* in c:\\users\\legion\\appdata\\local\\programs\\python\\python313\\lib\\site-packages (from httpx>=0.24.1->gradio) (1.0.9)\n",
      "Requirement already satisfied: h11>=0.16 in c:\\users\\legion\\appdata\\local\\programs\\python\\python313\\lib\\site-packages (from httpcore==1.*->httpx>=0.24.1->gradio) (0.16.0)\n",
      "Requirement already satisfied: filelock in c:\\users\\legion\\appdata\\local\\programs\\python\\python313\\lib\\site-packages (from huggingface-hub>=0.28.1->gradio) (3.18.0)\n",
      "Requirement already satisfied: requests in c:\\users\\legion\\appdata\\local\\programs\\python\\python313\\lib\\site-packages (from huggingface-hub>=0.28.1->gradio) (2.32.3)\n",
      "Requirement already satisfied: tqdm>=4.42.1 in c:\\users\\legion\\appdata\\local\\programs\\python\\python313\\lib\\site-packages (from huggingface-hub>=0.28.1->gradio) (4.67.1)\n",
      "Requirement already satisfied: python-dateutil>=2.8.2 in c:\\users\\legion\\appdata\\roaming\\python\\python313\\site-packages (from pandas<3.0,>=1.0->gradio) (2.9.0.post0)\n",
      "Requirement already satisfied: pytz>=2020.1 in c:\\users\\legion\\appdata\\local\\programs\\python\\python313\\lib\\site-packages (from pandas<3.0,>=1.0->gradio) (2025.2)\n",
      "Requirement already satisfied: tzdata>=2022.7 in c:\\users\\legion\\appdata\\local\\programs\\python\\python313\\lib\\site-packages (from pandas<3.0,>=1.0->gradio) (2025.2)\n",
      "Requirement already satisfied: annotated-types>=0.6.0 in c:\\users\\legion\\appdata\\local\\programs\\python\\python313\\lib\\site-packages (from pydantic<2.12,>=2.0->gradio) (0.7.0)\n",
      "Requirement already satisfied: pydantic-core==2.33.2 in c:\\users\\legion\\appdata\\local\\programs\\python\\python313\\lib\\site-packages (from pydantic<2.12,>=2.0->gradio) (2.33.2)\n",
      "Requirement already satisfied: typing-inspection>=0.4.0 in c:\\users\\legion\\appdata\\local\\programs\\python\\python313\\lib\\site-packages (from pydantic<2.12,>=2.0->gradio) (0.4.1)\n",
      "Requirement already satisfied: click<8.2,>=8.0.0 in c:\\users\\legion\\appdata\\local\\programs\\python\\python313\\lib\\site-packages (from typer<1.0,>=0.12->gradio) (8.1.8)\n",
      "Requirement already satisfied: shellingham>=1.3.0 in c:\\users\\legion\\appdata\\local\\programs\\python\\python313\\lib\\site-packages (from typer<1.0,>=0.12->gradio) (1.5.4)\n",
      "Requirement already satisfied: rich>=10.11.0 in c:\\users\\legion\\appdata\\local\\programs\\python\\python313\\lib\\site-packages (from typer<1.0,>=0.12->gradio) (14.0.0)\n",
      "Requirement already satisfied: colorama in c:\\users\\legion\\appdata\\local\\programs\\python\\python313\\lib\\site-packages (from click<8.2,>=8.0.0->typer<1.0,>=0.12->gradio) (0.4.6)\n",
      "Requirement already satisfied: six>=1.5 in c:\\users\\legion\\appdata\\roaming\\python\\python313\\site-packages (from python-dateutil>=2.8.2->pandas<3.0,>=1.0->gradio) (1.17.0)\n",
      "Requirement already satisfied: markdown-it-py>=2.2.0 in c:\\users\\legion\\appdata\\local\\programs\\python\\python313\\lib\\site-packages (from rich>=10.11.0->typer<1.0,>=0.12->gradio) (3.0.0)\n",
      "Requirement already satisfied: pygments<3.0.0,>=2.13.0 in c:\\users\\legion\\appdata\\roaming\\python\\python313\\site-packages (from rich>=10.11.0->typer<1.0,>=0.12->gradio) (2.19.1)\n",
      "Requirement already satisfied: charset-normalizer<4,>=2 in c:\\users\\legion\\appdata\\local\\programs\\python\\python313\\lib\\site-packages (from requests->huggingface-hub>=0.28.1->gradio) (3.4.2)\n",
      "Requirement already satisfied: urllib3<3,>=1.21.1 in c:\\users\\legion\\appdata\\local\\programs\\python\\python313\\lib\\site-packages (from requests->huggingface-hub>=0.28.1->gradio) (2.4.0)\n",
      "Requirement already satisfied: mdurl~=0.1 in c:\\users\\legion\\appdata\\local\\programs\\python\\python313\\lib\\site-packages (from markdown-it-py>=2.2.0->rich>=10.11.0->typer<1.0,>=0.12->gradio) (0.1.2)\n",
      "Note: you may need to restart the kernel to use updated packages.\n"
     ]
    },
    {
     "name": "stderr",
     "output_type": "stream",
     "text": [
      "\n",
      "[notice] A new release of pip is available: 25.0.1 -> 25.1.1\n",
      "[notice] To update, run: python.exe -m pip install --upgrade pip\n"
     ]
    }
   ],
   "source": [
    "%pip install gradio"
   ]
  },
  {
   "cell_type": "code",
   "execution_count": 13,
   "id": "730cb78e",
   "metadata": {},
   "outputs": [
    {
     "name": "stdout",
     "output_type": "stream",
     "text": [
      "* Running on local URL:  http://127.0.0.1:7863\n",
      "* Running on public URL: https://e4fe2e863b22b82913.gradio.live\n",
      "\n",
      "This share link expires in 1 week. For free permanent hosting and GPU upgrades, run `gradio deploy` from the terminal in the working directory to deploy to Hugging Face Spaces (https://huggingface.co/spaces)\n"
     ]
    },
    {
     "data": {
      "text/html": [
       "<div><iframe src=\"https://e4fe2e863b22b82913.gradio.live\" width=\"100%\" height=\"500\" allow=\"autoplay; camera; microphone; clipboard-read; clipboard-write;\" frameborder=\"0\" allowfullscreen></iframe></div>"
      ],
      "text/plain": [
       "<IPython.core.display.HTML object>"
      ]
     },
     "metadata": {},
     "output_type": "display_data"
    },
    {
     "data": {
      "text/plain": []
     },
     "execution_count": 13,
     "metadata": {},
     "output_type": "execute_result"
    },
    {
     "name": "stdout",
     "output_type": "stream",
     "text": [
      "Created dataset file at: .gradio\\flagged\\dataset3.csv\n"
     ]
    }
   ],
   "source": [
    "import torch\n",
    "import gradio as gr\n",
    "import numpy as np\n",
    "\n",
    "def generate_digit(seed=42, latent_dim=20):\n",
    "    torch.manual_seed(seed)\n",
    "    z = torch.randn(1, latent_dim)                      \n",
    "    with torch.no_grad():                                   \n",
    "        generated = vae.decode(z)                                                                                                                                                                            \n",
    "    img = generated.view(28, 28).cpu().numpy()\n",
    "    return img                       \n",
    "\n",
    "gr.Interface(\n",
    "    fn=generate_digit,\n",
    "    inputs=gr.Slider(0, 1000, step=1, value=42, label=\"Random Seed\"),\n",
    "    outputs=gr.Image(label=\"Generated Digit\", image_mode='L'),\n",
    "    title=\"VAE MNIST Digit Generator\",\n",
    "    description=\"Move the slider to generate different digits from your trained VAE!\"\n",
    ").launch(share=True)                                                                                                                  "
   ]
  },
  {
   "cell_type": "code",
   "execution_count": 14,
   "id": "4903db5d",
   "metadata": {},
   "outputs": [
    {
     "name": "stdout",
     "output_type": "stream",
     "text": [
      "* Running on local URL:  http://127.0.0.1:7864\n",
      "* Running on public URL: https://9ab754579845324c38.gradio.live\n",
      "\n",
      "This share link expires in 1 week. For free permanent hosting and GPU upgrades, run `gradio deploy` from the terminal in the working directory to deploy to Hugging Face Spaces (https://huggingface.co/spaces)\n"
     ]
    },
    {
     "data": {
      "text/html": [
       "<div><iframe src=\"https://9ab754579845324c38.gradio.live\" width=\"100%\" height=\"500\" allow=\"autoplay; camera; microphone; clipboard-read; clipboard-write;\" frameborder=\"0\" allowfullscreen></iframe></div>"
      ],
      "text/plain": [
       "<IPython.core.display.HTML object>"
      ]
     },
     "metadata": {},
     "output_type": "display_data"
    },
    {
     "data": {
      "text/plain": []
     },
     "execution_count": 14,
     "metadata": {},
     "output_type": "execute_result"
    },
    {
     "name": "stdout",
     "output_type": "stream",
     "text": [
      "Created dataset file at: .gradio\\flagged\\dataset4.csv\n"
     ]
    }
   ],
   "source": [
    "import gradio as gr\n",
    "import numpy as np\n",
    "import torch\n",
    "from PIL import Image\n",
    "\n",
    "def reconstruct_digit(img):\n",
    "    # Convert to PIL Image, resize to 28x28, then to numpy and normalize\n",
    "    img = Image.fromarray(img).convert(\"L\").resize((28, 28))\n",
    "    img = np.array(img).astype(np.float32) / 255.0\n",
    "    img_tensor = torch.tensor(img).view(1, 28*28)\n",
    "    with torch.no_grad():\n",
    "        recon, _, _ = vae(img_tensor)\n",
    "    recon_img = recon.view(28, 28).cpu().numpy()\n",
    "    return recon_img\n",
    "\n",
    "gr.Interface(\n",
    "    fn=reconstruct_digit,\n",
    "    inputs=gr.Image(image_mode='L', sources=['upload'], label=\"Upload Digit\"),\n",
    "    outputs=gr.Image(label=\"Reconstructed Digit\", image_mode='L'),\n",
    "    title=\"VAE MNIST Digit Reconstructor\",\n",
    "    description=\"Upload a digit image (any size, will be resized to 28x28) to see its reconstruction by your trained VAE.\"\n",
    ").launch(share=True)"
   ]
  }
 ],
 "metadata": {
  "kernelspec": {
   "display_name": "Python 3",
   "language": "python",
   "name": "python3"
  },
  "language_info": {
   "codemirror_mode": {
    "name": "ipython",
    "version": 3
   },
   "file_extension": ".py",
   "mimetype": "text/x-python",
   "name": "python",
   "nbconvert_exporter": "python",
   "pygments_lexer": "ipython3",
   "version": "3.13.3"
  }
 },
 "nbformat": 4,
 "nbformat_minor": 5
}
